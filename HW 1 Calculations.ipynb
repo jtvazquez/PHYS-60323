{
 "cells": [
  {
   "cell_type": "markdown",
   "metadata": {},
   "source": [
    "# Homework 1: Basic Statistics"
   ]
  },
  {
   "cell_type": "markdown",
   "metadata": {},
   "source": [
    "## Problem 1"
   ]
  },
  {
   "cell_type": "code",
   "execution_count": 1,
   "metadata": {},
   "outputs": [],
   "source": [
    "import numpy as np\n",
    "S = [34.4, -43.8, 53.5, 61.3, 53.4, 54.8, 54.0, 51.5, -97.7, 54.8, 50.9, 59.4, 43.6, 45.8, 55.5,\n",
    "50.1, 45.3, 54.4, 42.6, 50.5, 37.6, 55.8, 58.9, 58.2, 86.4, 3.7, 36.0, 53.9, 56.3, 57.3, 72.7,\n",
    "75.4]"
   ]
  },
  {
   "cell_type": "markdown",
   "metadata": {},
   "source": [
    "Here is the calculation of the median:"
   ]
  },
  {
   "cell_type": "code",
   "execution_count": 2,
   "metadata": {},
   "outputs": [
    {
     "data": {
      "text/plain": [
       "53.7"
      ]
     },
     "execution_count": 2,
     "metadata": {},
     "output_type": "execute_result"
    }
   ],
   "source": [
    "theta = np.sort(S)\n",
    "median = (theta[16] + theta[15])*0.5\n",
    "median"
   ]
  },
  {
   "cell_type": "markdown",
   "metadata": {},
   "source": [
    "The calculation of the mean:"
   ]
  },
  {
   "cell_type": "code",
   "execution_count": 3,
   "metadata": {},
   "outputs": [
    {
     "data": {
      "text/plain": [
       "44.578125"
      ]
     },
     "execution_count": 3,
     "metadata": {},
     "output_type": "execute_result"
    }
   ],
   "source": [
    "mean = np.average(S)\n",
    "mean"
   ]
  },
  {
   "cell_type": "markdown",
   "metadata": {},
   "source": [
    "The calculation of the standard deviation ($s$) $$s = \\sqrt{\\frac{1}{N-1} \\sum_{i=0}^{N-1}(x_i-\\bar{x})^2}$$"
   ]
  },
  {
   "cell_type": "code",
   "execution_count": 4,
   "metadata": {},
   "outputs": [
    {
     "data": {
      "text/plain": [
       "33.9"
      ]
     },
     "execution_count": 4,
     "metadata": {},
     "output_type": "execute_result"
    }
   ],
   "source": [
    "N = 32\n",
    "q = 1/(N-1)\n",
    "a = 0\n",
    "for i in range(32):\n",
    "    a += (S[i] - 44.6)**2\n",
    "q *= a\n",
    "s = q**(1./2)\n",
    "s = np.round(s,1)\n",
    "s"
   ]
  },
  {
   "cell_type": "markdown",
   "metadata": {},
   "source": [
    "## Problem 2"
   ]
  },
  {
   "cell_type": "markdown",
   "metadata": {},
   "source": [
    "a) The accuracy $a$ is determined by:\n",
    "\n",
    "$$ a = \\frac{\\sum_i(a_i/\\sigma_i^2)}{\\sum_i(1/\\sigma_i^2)}$$"
   ]
  },
  {
   "cell_type": "code",
   "execution_count": 5,
   "metadata": {},
   "outputs": [
    {
     "name": "stdout",
     "output_type": "stream",
     "text": [
      "a = 55.1\n"
     ]
    }
   ],
   "source": [
    "A = [54.7,55.2,58.8,53.8,56.5,55.8] #value set\n",
    "SIGMA = [0.9,3.9,2.1,0.9,2.8,0.8] #error set\n",
    "num = 0 \n",
    "denom = 0\n",
    "if len(A)==len(SIGMA):\n",
    "    for i in range(len(A)):\n",
    "        num += (A[i]/(SIGMA[i])**2) #top sum\n",
    "        denom += (1/(SIGMA[i])**2) #bottom sum\n",
    "else:\n",
    "    print('Redo lengths')\n",
    "answer = num/denom\n",
    "answer = np.round(answer,1) #rounding for consistent precision\n",
    "print(\"a = %s\" % answer)"
   ]
  },
  {
   "cell_type": "markdown",
   "metadata": {},
   "source": [
    "b) The standard deviation, or error, ($\\sigma$) is determined in this case as:\n",
    "\n",
    "$$ \\frac{1}{\\sigma^2} = \\sum_i\\frac{1}{\\sigma_i^2}$$"
   ]
  },
  {
   "cell_type": "code",
   "execution_count": 6,
   "metadata": {},
   "outputs": [
    {
     "name": "stdout",
     "output_type": "stream",
     "text": [
      "sigma = 0.5\n"
     ]
    }
   ],
   "source": [
    "summ = 0\n",
    "for i in range(len(SIGMA)):\n",
    "    summ += (SIGMA[i])**(-2)\n",
    "sigma = summ**(-0.5)\n",
    "sigma = np.round(sigma,1) #rounding for consistent precision\n",
    "print(\"sigma = %s\" % sigma)"
   ]
  }
 ],
 "metadata": {
  "kernelspec": {
   "display_name": "Python 3",
   "language": "python",
   "name": "python3"
  },
  "language_info": {
   "codemirror_mode": {
    "name": "ipython",
    "version": 3
   },
   "file_extension": ".py",
   "mimetype": "text/x-python",
   "name": "python",
   "nbconvert_exporter": "python",
   "pygments_lexer": "ipython3",
   "version": "3.7.4"
  }
 },
 "nbformat": 4,
 "nbformat_minor": 2
}
